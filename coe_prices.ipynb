{
 "cells": [
  {
   "cell_type": "code",
   "execution_count": 22,
   "id": "5eb83e87",
   "metadata": {},
   "outputs": [],
   "source": [
    "import requests \n",
    "from bs4 import BeautifulSoup\n",
    "from time import sleep\n",
    "from time import time\n",
    "import random\n",
    "import sqlite3\n",
    "import re\n",
    "from datetime import datetime\n",
    "import datetime as dt\n",
    "from urllib.request import Request, urlopen\n",
    "import pandas as pd"
   ]
  },
  {
   "cell_type": "code",
   "execution_count": 58,
   "id": "c909aecf",
   "metadata": {},
   "outputs": [
    {
     "name": "stdout",
     "output_type": "stream",
     "text": [
      "['COE Bidding Results - Aug 2021']\n",
      "['CAT A', 'CAT B', 'CAT C', 'CAT E']\n",
      "['805', '771', '118', '199']\n",
      "['45189', '56001', '42589', '59599']\n"
     ]
    }
   ],
   "source": [
    "req = Request(\"https://www.sgcarmart.com/news/writeup.php?AID=70&gclid=CjwKCAjw9aiIBhA1EiwAJ_GTSqqQBEROLZE2TlmuhGN5XYzNmYzD15Y7WuWpINvQQgNpuCBFV36yFBoCt5UQAvD_BwE\")\n",
    "webpage = urlopen(req).read()\n",
    "\n",
    "title = []\n",
    "category = []\n",
    "quota = []\n",
    "premium = []\n",
    "\n",
    "soup = BeautifulSoup(webpage)\n",
    "\n",
    "# find title\n",
    "for t in soup.find_all(\"h2\"):\n",
    "    t_clean = t.text.strip()[0:].replace(',','')\n",
    "    title.append(t_clean)\n",
    "\n",
    "# find category\n",
    "for c in soup.find_all(\"div\", class_=\"fixed_h coe_sub_header cat_desc\"):\n",
    "    c_clean = c.text.strip()[0:5].replace(',','')\n",
    "    category.append(c_clean)\n",
    "    \n",
    "# find quota\n",
    "for q in soup.find_all(\"div\", limit=4, class_=\"coe_sub_header h_27 font_18\"):\n",
    "    q_clean = q.text.strip()[0:].replace(',','')\n",
    "    quota.append(q_clean)\n",
    "    \n",
    "# find premium\n",
    "for p in soup.find_all(\"div\", class_=\"coe_sub_header font_bold h_27\"):\n",
    "    p_clean = p.text.strip()[1:].replace(',','')\n",
    "    premium.append(p_clean)\n",
    "    \n",
    "print(title)\n",
    "print(category)\n",
    "print(quota)\n",
    "print(premium)"
   ]
  },
  {
   "cell_type": "code",
   "execution_count": 61,
   "id": "2dc4a359",
   "metadata": {},
   "outputs": [
    {
     "name": "stdout",
     "output_type": "stream",
     "text": [
      "  Category Quota Premium\n",
      "0    CAT A   805   45189\n",
      "1    CAT B   771   56001\n",
      "2    CAT C   118   42589\n",
      "3    CAT E   199   59599\n"
     ]
    }
   ],
   "source": [
    "data = pd.DataFrame()\n",
    "data[\"Category\"] = category\n",
    "data[\"Quota\"] = quota\n",
    "data[\"Premium\"] = premium\n",
    "\n",
    "print(data)"
   ]
  },
  {
   "cell_type": "code",
   "execution_count": 62,
   "id": "77795a5f",
   "metadata": {},
   "outputs": [],
   "source": [
    "data.to_csv('coe_prices.csv', index=False, header=True)"
   ]
  },
  {
   "cell_type": "code",
   "execution_count": 63,
   "id": "7471274b",
   "metadata": {},
   "outputs": [
    {
     "name": "stdout",
     "output_type": "stream",
     "text": [
      "                            Title\n",
      "0  COE Bidding Results - Aug 2021\n"
     ]
    }
   ],
   "source": [
    "data2 = pd.DataFrame()\n",
    "data2[\"Title\"] = title\n",
    "\n",
    "print(data2)"
   ]
  },
  {
   "cell_type": "code",
   "execution_count": 64,
   "id": "aa023ed0",
   "metadata": {},
   "outputs": [],
   "source": [
    "data2.to_csv('coe_title.csv', index=False, header=True)"
   ]
  },
  {
   "cell_type": "code",
   "execution_count": null,
   "id": "6ec11ccc",
   "metadata": {},
   "outputs": [],
   "source": []
  }
 ],
 "metadata": {
  "kernelspec": {
   "display_name": "Python 3",
   "language": "python",
   "name": "python3"
  },
  "language_info": {
   "codemirror_mode": {
    "name": "ipython",
    "version": 3
   },
   "file_extension": ".py",
   "mimetype": "text/x-python",
   "name": "python",
   "nbconvert_exporter": "python",
   "pygments_lexer": "ipython3",
   "version": "3.8.10"
  }
 },
 "nbformat": 4,
 "nbformat_minor": 5
}
